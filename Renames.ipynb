{
 "cells": [
  {
   "cell_type": "code",
   "execution_count": 3,
   "metadata": {},
   "outputs": [
    {
     "data": {
      "text/html": [
       "<style>.container { width:100% !important; }</style>"
      ],
      "text/plain": [
       "<IPython.core.display.HTML object>"
      ]
     },
     "metadata": {},
     "output_type": "display_data"
    },
    {
     "data": {
      "text/html": [
       "<style>div.output_area{max-height:10000px;overflow:scroll;}</style>"
      ],
      "text/plain": [
       "<IPython.core.display.HTML object>"
      ]
     },
     "metadata": {},
     "output_type": "display_data"
    },
    {
     "name": "stdout",
     "output_type": "stream",
     "text": [
      "Python: 3.7.7 (default, Mar 26 2020, 10:32:53) \n",
      "[Clang 4.0.1 (tags/RELEASE_401/final)]\n"
     ]
    },
    {
     "ename": "ModuleNotFoundError",
     "evalue": "No module named 'discogs'",
     "output_type": "error",
     "traceback": [
      "\u001b[0;31m---------------------------------------------------------------------------\u001b[0m",
      "\u001b[0;31mModuleNotFoundError\u001b[0m                       Traceback (most recent call last)",
      "\u001b[0;32m<ipython-input-3-b0e8c9d4085c>\u001b[0m in \u001b[0;36m<module>\u001b[0;34m\u001b[0m\n\u001b[1;32m     10\u001b[0m \u001b[0mprint\u001b[0m\u001b[0;34m(\u001b[0m\u001b[0;34m\"Python: {0}\"\u001b[0m\u001b[0;34m.\u001b[0m\u001b[0mformat\u001b[0m\u001b[0;34m(\u001b[0m\u001b[0msys\u001b[0m\u001b[0;34m.\u001b[0m\u001b[0mversion\u001b[0m\u001b[0;34m)\u001b[0m\u001b[0;34m)\u001b[0m\u001b[0;34m\u001b[0m\u001b[0;34m\u001b[0m\u001b[0m\n\u001b[1;32m     11\u001b[0m \u001b[0;34m\u001b[0m\u001b[0m\n\u001b[0;32m---> 12\u001b[0;31m \u001b[0;32mfrom\u001b[0m \u001b[0mdiscogs\u001b[0m \u001b[0;32mimport\u001b[0m \u001b[0mdiscogs\u001b[0m\u001b[0;34m\u001b[0m\u001b[0;34m\u001b[0m\u001b[0m\n\u001b[0m\u001b[1;32m     13\u001b[0m \u001b[0;32mfrom\u001b[0m \u001b[0mmp3id\u001b[0m \u001b[0;32mimport\u001b[0m \u001b[0mmp3ID\u001b[0m\u001b[0;34m\u001b[0m\u001b[0;34m\u001b[0m\u001b[0m\n\u001b[1;32m     14\u001b[0m \u001b[0;32mfrom\u001b[0m \u001b[0mmultiArtist\u001b[0m \u001b[0;32mimport\u001b[0m \u001b[0mmultiartist\u001b[0m\u001b[0;34m\u001b[0m\u001b[0;34m\u001b[0m\u001b[0m\n",
      "\u001b[0;31mModuleNotFoundError\u001b[0m: No module named 'discogs'"
     ]
    }
   ],
   "source": [
    "## Basic stuff\n",
    "%load_ext autoreload\n",
    "%autoreload\n",
    "from IPython.core.display import display, HTML\n",
    "display(HTML(\"<style>.container { width:100% !important; }</style>\"))\n",
    "display(HTML(\"\"\"<style>div.output_area{max-height:10000px;overflow:scroll;}</style>\"\"\"))\n",
    "\n",
    "## Python Version\n",
    "import sys\n",
    "print(\"Python: {0}\".format(sys.version))\n",
    "\n",
    "from discogs import discogs\n",
    "from mp3id import mp3ID\n",
    "from multiArtist import multiartist\n",
    "\n",
    "import datetime as dt\n",
    "start = dt.datetime.now()\n",
    "print(\"Notebook Last Run Initiated: \"+str(start))"
   ]
  },
  {
   "cell_type": "code",
   "execution_count": 6,
   "metadata": {},
   "outputs": [
    {
     "name": "stdout",
     "output_type": "stream",
     "text": [
      "Saved Discog Directory /Volumes/Music/Discog is Available\n",
      "Warning! Local Discog Directory /Users/tgadfort/Documents/music/Discog is not Available\n",
      "/Volumes/Music/Discog/base exists\n",
      "/Volumes/Music/Discog/collections exists\n",
      "/Volumes/Music/Discog/artists exists\n",
      "/Volumes/Music/Discog/albums exists\n",
      "/Volumes/Music/Discog/base-db exists\n",
      "/Volumes/Music/Discog/collections-db exists\n",
      "/Volumes/Music/Discog/artists-db exists\n",
      "/Volumes/Music/Discog/albums-db exists\n",
      "/Volumes/Music/Discog/artists-extra exists\n",
      "/Volumes/Music/Discog/search exists\n",
      "/Volumes/Music/Discog/search-artists exists\n",
      "/Volumes/Music/Discog/special exists\n",
      "/Volumes/Music/Discog/artist-special exists\n",
      "/Volumes/Music/Discog/db exists\n",
      "Found 100 artist DB files and that is equal to the max mod value\n"
     ]
    },
    {
     "ename": "ValueError",
     "evalue": "Could not find /Volumes/Music/Discog/db/artistNameToIDs.p",
     "output_type": "error",
     "traceback": [
      "\u001b[0;31m---------------------------------------------------------------------------\u001b[0m",
      "\u001b[0;31mValueError\u001b[0m                                Traceback (most recent call last)",
      "\u001b[0;32m<ipython-input-6-1465aab7d224>\u001b[0m in \u001b[0;36m<module>\u001b[0;34m\u001b[0m\n\u001b[1;32m      1\u001b[0m \u001b[0mdisc\u001b[0m \u001b[0;34m=\u001b[0m \u001b[0mdiscogs\u001b[0m\u001b[0;34m(\u001b[0m\u001b[0;34m)\u001b[0m\u001b[0;34m\u001b[0m\u001b[0;34m\u001b[0m\u001b[0m\n\u001b[0;32m----> 2\u001b[0;31m \u001b[0mdiscdata\u001b[0m \u001b[0;34m=\u001b[0m \u001b[0mdisc\u001b[0m\u001b[0;34m.\u001b[0m\u001b[0mgetArtistNameToIDsData\u001b[0m\u001b[0;34m(\u001b[0m\u001b[0;34m)\u001b[0m\u001b[0;34m\u001b[0m\u001b[0;34m\u001b[0m\u001b[0m\n\u001b[0m\u001b[1;32m      3\u001b[0m \u001b[0mprint\u001b[0m\u001b[0;34m(\u001b[0m\u001b[0mlen\u001b[0m\u001b[0;34m(\u001b[0m\u001b[0mdiscdata\u001b[0m\u001b[0;34m)\u001b[0m\u001b[0;34m)\u001b[0m\u001b[0;34m\u001b[0m\u001b[0;34m\u001b[0m\u001b[0m\n",
      "\u001b[0;32m/anaconda3/envs/py37/lib/python3.7/site-packages/discogs-0.0.1-py3.7.egg/discogs.py\u001b[0m in \u001b[0;36mgetArtistNameToIDsData\u001b[0;34m(self)\u001b[0m\n\u001b[1;32m    181\u001b[0m \u001b[0;34m\u001b[0m\u001b[0m\n\u001b[1;32m    182\u001b[0m     \u001b[0;32mdef\u001b[0m \u001b[0mgetArtistNameToIDsData\u001b[0m\u001b[0;34m(\u001b[0m\u001b[0mself\u001b[0m\u001b[0;34m)\u001b[0m\u001b[0;34m:\u001b[0m\u001b[0;34m\u001b[0m\u001b[0;34m\u001b[0m\u001b[0m\n\u001b[0;32m--> 183\u001b[0;31m         \u001b[0;32mreturn\u001b[0m \u001b[0mself\u001b[0m\u001b[0;34m.\u001b[0m\u001b[0mgetDBData\u001b[0m\u001b[0;34m(\u001b[0m\u001b[0;34m\"NameToIDs\"\u001b[0m\u001b[0;34m,\u001b[0m \u001b[0;34m\"artist\"\u001b[0m\u001b[0;34m)\u001b[0m\u001b[0;34m\u001b[0m\u001b[0;34m\u001b[0m\u001b[0m\n\u001b[0m\u001b[1;32m    184\u001b[0m \u001b[0;34m\u001b[0m\u001b[0m\n\u001b[1;32m    185\u001b[0m     \u001b[0;32mdef\u001b[0m \u001b[0mgetArtistIDToNameData\u001b[0m\u001b[0;34m(\u001b[0m\u001b[0mself\u001b[0m\u001b[0;34m)\u001b[0m\u001b[0;34m:\u001b[0m\u001b[0;34m\u001b[0m\u001b[0;34m\u001b[0m\u001b[0m\n",
      "\u001b[0;32m/anaconda3/envs/py37/lib/python3.7/site-packages/discogs-0.0.1-py3.7.egg/discogs.py\u001b[0m in \u001b[0;36mgetDBData\u001b[0;34m(self, dbname, prefix)\u001b[0m\n\u001b[1;32m    171\u001b[0m         \u001b[0msavename\u001b[0m \u001b[0;34m=\u001b[0m \u001b[0msetFile\u001b[0m\u001b[0;34m(\u001b[0m\u001b[0mself\u001b[0m\u001b[0;34m.\u001b[0m\u001b[0mgetDiscogDBDir\u001b[0m\u001b[0;34m(\u001b[0m\u001b[0;34m)\u001b[0m\u001b[0;34m,\u001b[0m \u001b[0;34m\"{0}{1}.p\"\u001b[0m\u001b[0;34m.\u001b[0m\u001b[0mformat\u001b[0m\u001b[0;34m(\u001b[0m\u001b[0mprefix\u001b[0m\u001b[0;34m,\u001b[0m \u001b[0mdbname\u001b[0m\u001b[0;34m)\u001b[0m\u001b[0;34m)\u001b[0m\u001b[0;34m\u001b[0m\u001b[0;34m\u001b[0m\u001b[0m\n\u001b[1;32m    172\u001b[0m         \u001b[0;32mif\u001b[0m \u001b[0;32mnot\u001b[0m \u001b[0misFile\u001b[0m\u001b[0;34m(\u001b[0m\u001b[0msavename\u001b[0m\u001b[0;34m)\u001b[0m\u001b[0;34m:\u001b[0m\u001b[0;34m\u001b[0m\u001b[0;34m\u001b[0m\u001b[0m\n\u001b[0;32m--> 173\u001b[0;31m             \u001b[0;32mraise\u001b[0m \u001b[0mValueError\u001b[0m\u001b[0;34m(\u001b[0m\u001b[0;34m\"Could not find {0}\"\u001b[0m\u001b[0;34m.\u001b[0m\u001b[0mformat\u001b[0m\u001b[0;34m(\u001b[0m\u001b[0msavename\u001b[0m\u001b[0;34m)\u001b[0m\u001b[0;34m)\u001b[0m\u001b[0;34m\u001b[0m\u001b[0;34m\u001b[0m\u001b[0m\n\u001b[0m\u001b[1;32m    174\u001b[0m         \u001b[0mdata\u001b[0m \u001b[0;34m=\u001b[0m \u001b[0mgetFile\u001b[0m\u001b[0;34m(\u001b[0m\u001b[0msavename\u001b[0m\u001b[0;34m,\u001b[0m \u001b[0mdebug\u001b[0m\u001b[0;34m=\u001b[0m\u001b[0;32mTrue\u001b[0m\u001b[0;34m)\u001b[0m\u001b[0;34m\u001b[0m\u001b[0;34m\u001b[0m\u001b[0m\n\u001b[1;32m    175\u001b[0m         \u001b[0;32mreturn\u001b[0m \u001b[0mdata\u001b[0m\u001b[0;34m\u001b[0m\u001b[0;34m\u001b[0m\u001b[0m\n",
      "\u001b[0;31mValueError\u001b[0m: Could not find /Volumes/Music/Discog/db/artistNameToIDs.p"
     ]
    }
   ],
   "source": [
    "disc = discogs()\n",
    "discdata = disc.getArtistNameToIDsData()\n",
    "print(len(discdata))"
   ]
  },
  {
   "cell_type": "code",
   "execution_count": null,
   "metadata": {},
   "outputs": [],
   "source": [
    "\n",
    "ma = multiartist(cutoff=0.9, discdata=discdata, exact=False)\n",
    "\n",
    "from random import shuffle\n",
    "print(\"There are {0} chart artists\".format(len(chartArtists)))\n",
    "shuffle(chartArtists)\n",
    "for i,artist in enumerate(chartArtists):\n",
    "    if prevs.get(artist) is not None:\n",
    "        continue\n",
    "    retval = ma.getArtistNames(artist)"
   ]
  },
  {
   "cell_type": "code",
   "execution_count": 65,
   "metadata": {},
   "outputs": [],
   "source": [
    "from fileUtils import getBaseFilename \n",
    "import re"
   ]
  },
  {
   "cell_type": "code",
   "execution_count": 75,
   "metadata": {},
   "outputs": [
    {
     "data": {
      "text/plain": [
       "('(', '6', ',', ' ', '0', ')')"
      ]
     },
     "execution_count": 75,
     "metadata": {},
     "output_type": "execute_result"
    }
   ],
   "source": [
    "x = \"(6, 0)\"\n",
    "tuple(x)"
   ]
  },
  {
   "cell_type": "code",
   "execution_count": 72,
   "metadata": {},
   "outputs": [],
   "source": [
    "trackname = getBaseFilename(\"02 - Walking in Avalon.mp3\")\n"
   ]
  },
  {
   "cell_type": "code",
   "execution_count": 27,
   "metadata": {},
   "outputs": [
    {
     "data": {
      "text/plain": [
       "'Walking in Avalon.mp3'"
      ]
     },
     "execution_count": 27,
     "metadata": {},
     "output_type": "execute_result"
    }
   ],
   "source": [
    "stripName(\" - Walking in Avalon.mp3\")"
   ]
  },
  {
   "cell_type": "code",
   "execution_count": 73,
   "metadata": {},
   "outputs": [
    {
     "data": {
      "text/plain": [
       "{'TrackNumber': '02', 'Title': 'Walking in Avalon'}"
      ]
     },
     "execution_count": 73,
     "metadata": {},
     "output_type": "execute_result"
    }
   ],
   "source": [
    "tags"
   ]
  },
  {
   "cell_type": "code",
   "execution_count": 40,
   "metadata": {},
   "outputs": [],
   "source": [
    "vals = {\"a\": '02', \"b\": \"02\", \"c\": \"2\", \"d\": \"02\"}"
   ]
  },
  {
   "cell_type": "code",
   "execution_count": 6,
   "metadata": {},
   "outputs": [],
   "source": [
    "trackname = \"7. - Yo.mp3\"\n",
    "import re"
   ]
  },
  {
   "cell_type": "code",
   "execution_count": 7,
   "metadata": {},
   "outputs": [
    {
     "data": {
      "text/plain": [
       "<re.Match object; span=(0, 2), match='7.'>"
      ]
     },
     "execution_count": 7,
     "metadata": {},
     "output_type": "execute_result"
    }
   ],
   "source": [
    "pattern = \"^[0-9]{1}.\"\n",
    "mval    = re.search(pattern, trackname)    \n",
    "mval"
   ]
  },
  {
   "cell_type": "code",
   "execution_count": null,
   "metadata": {},
   "outputs": [],
   "source": []
  },
  {
   "cell_type": "code",
   "execution_count": 23,
   "metadata": {},
   "outputs": [],
   "source": [
    "pattern = \"[\\n\\r].*-:\\s*([^\\n\\r]*)\"\n",
    "mval    = re.match(pattern, trackname)\n",
    "mval"
   ]
  },
  {
   "cell_type": "code",
   "execution_count": 5,
   "metadata": {},
   "outputs": [
    {
     "name": "stdout",
     "output_type": "stream",
     "text": [
      "['02 - ']\n"
     ]
    }
   ],
   "source": [
    "######################################################################\n",
    "pattern = \"[0-9][1-9] - \"\n",
    "retvals = re.findall(pattern, trackname)\n",
    "if len(retvals) > 0:\n",
    "    \n",
    "print(retvals)\n",
    "\n",
    "\n"
   ]
  },
  {
   "cell_type": "code",
   "execution_count": null,
   "metadata": {},
   "outputs": [],
   "source": []
  },
  {
   "cell_type": "code",
   "execution_count": 36,
   "metadata": {},
   "outputs": [],
   "source": []
  },
  {
   "cell_type": "code",
   "execution_count": 40,
   "metadata": {},
   "outputs": [
    {
     "name": "stdout",
     "output_type": "stream",
     "text": [
      "------------------------------------------------\n",
      "Name:    | A11 - name.mp3\n",
      "Pattern: | ^(?:[A-Z][0-9]{2}|[A-Z][0-9]{1})\n",
      "Value:   | A11\n",
      "Update:  |  - name.mp3\n",
      "------------------------------------------------\n"
     ]
    }
   ],
   "source": [
    "pattern  = r\"^(?:[A-Z][0-9]{2}|[A-Z][0-9]{1})\"\n",
    "track = \"A11 - name.mp3\"\n",
    "result = matchResult(pattern, track)\n",
    "result.show()"
   ]
  },
  {
   "cell_type": "code",
   "execution_count": 43,
   "metadata": {},
   "outputs": [],
   "source": []
  },
  {
   "cell_type": "code",
   "execution_count": 44,
   "metadata": {},
   "outputs": [
    {
     "data": {
      "text/plain": [
       "{'Value': 'A11', 'Update': ' - name.mp3'}"
      ]
     },
     "execution_count": 44,
     "metadata": {},
     "output_type": "execute_result"
    }
   ],
   "source": [
    "\n",
    "track = guessTrackNumber(name)\n",
    "track.match().get()"
   ]
  },
  {
   "cell_type": "code",
   "execution_count": null,
   "metadata": {},
   "outputs": [],
   "source": [
    "for delim in delims:\n",
    "    prefix = trackname.split(delim)[0].strip()\n",
    "    \n",
    "    \n",
    "    pattern = \"^[A-Z][0-9]{2}\"\n",
    "    mval    = re.search(pattern, trackname)    \n",
    "{\"Val\": mval.group(), \"Rep\": trackname.replace(mval.group(), \"\")}"
   ]
  },
  {
   "cell_type": "code",
   "execution_count": 64,
   "metadata": {},
   "outputs": [
    {
     "data": {
      "text/plain": [
       "<re.Match object; span=(3, 4), match=' '>"
      ]
     },
     "execution_count": 64,
     "metadata": {},
     "output_type": "execute_result"
    }
   ],
   "source": [
    "pattern = \"\\s\"\n",
    "name  = \"A11 - name.mp3\"\n",
    "re.search(pattern, name)"
   ]
  },
  {
   "cell_type": "code",
   "execution_count": 67,
   "metadata": {},
   "outputs": [],
   "source": [
    "import re\n",
    "from fileUtils import getBaseFilename\n",
    "\n",
    "\n",
    "##############################################################################################################\n",
    "# Match Result Class\n",
    "##############################################################################################################\n",
    "class matchResult:\n",
    "    def __init__(self, pattern, trackname):\n",
    "        if pattern is not None:\n",
    "            result  = re.search(pattern, trackname)\n",
    "        \n",
    "        self.match    = False\n",
    "        self.pattern  = pattern\n",
    "        self.prevname = trackname\n",
    "        self.value    = None\n",
    "        self.newname  = None\n",
    "        \n",
    "        if pattern is None:\n",
    "            self.match    = True\n",
    "            self.value    = trackname\n",
    "            self.newname  = \"\"\n",
    "            return\n",
    "        \n",
    "        if result is not None:\n",
    "            self.match    = True\n",
    "            self.value    = result.group()\n",
    "            self.newname  = trackname.replace(self.value, \"\")\n",
    "            \n",
    "    def get(self):\n",
    "        return {\"Value\": self.value, \"Update\": self.newname}\n",
    "            \n",
    "    def show(self):\n",
    "        print(\"------------------------------------------------\")\n",
    "        print(\"Name:    | {0}\".format(self.prevname))\n",
    "        print(\"Pattern: | {0}\".format(self.pattern))\n",
    "        print(\"Value:   | {0}\".format(self.value))\n",
    "        print(\"Update:  | {0}\".format(self.newname))\n",
    "        print(\"------------------------------------------------\")\n",
    "        \n",
    "        \n",
    "        \n",
    "##############################################################################################################\n",
    "# Guess Title Name Class\n",
    "##############################################################################################################\n",
    "class guessTitleName:\n",
    "    def __init__(self, track):\n",
    "        self.track   = track\n",
    "        self.results = {}\n",
    "        \n",
    "    def testAlphaNumeric(self):\n",
    "        testname = \"alphanumeric\"\n",
    "        result   = matchResult(None, self.track)\n",
    "        self.results[\"alphanumeric\"] = result\n",
    "\n",
    "    def match(self):\n",
    "        self.testAlphaNumeric()\n",
    "        \n",
    "        if self.results.get('alphanumeric') is not None:\n",
    "            return self.results['alphanumeric']\n",
    "        else:\n",
    "            return None\n",
    "        \n",
    "        \n",
    "##############################################################################################################\n",
    "# Guess Track Number Class\n",
    "##############################################################################################################\n",
    "class guessTrackNumber:\n",
    "    def __init__(self, track):\n",
    "        self.track   = track\n",
    "        self.results = {}\n",
    "        \n",
    "    def testNumericPrefix(self):\n",
    "        testname = \"numeric\"\n",
    "        pattern  = r\"^(?:\\d{3}|\\d{2}|\\d{1})\"\n",
    "        result   = matchResult(pattern, self.track)\n",
    "        if result.match is True:\n",
    "            self.results[\"numeric\"] = result\n",
    "            \n",
    "    def testNonNumericPrefix(self):\n",
    "        testname = \"nonnumeric\"\n",
    "        pattern  = r\"^(?:[A-Z][0-9]{2}|[A-Z][0-9]{1})\"\n",
    "        result   = matchResult(pattern, self.track)\n",
    "        if result.match is True:\n",
    "            self.results[\"nonnumeric\"] = result\n",
    "\n",
    "    def match(self):\n",
    "        self.testNumericPrefix()\n",
    "        self.testNonNumericPrefix()\n",
    "        \n",
    "        if self.results.get('nonnumeric') is not None:\n",
    "            return self.results['nonnumeric']\n",
    "        elif self.results.get('numeric') is not None:\n",
    "            return self.results['numeric']\n",
    "        else:\n",
    "            return None\n",
    "\n",
    "\n",
    "##############################################################################################################\n",
    "# Analyze Track Class\n",
    "##############################################################################################################\n",
    "class analyzeTrack:\n",
    "    def __init__(self, trackname):\n",
    "        \n",
    "        self.original  = trackname\n",
    "        trackname = getBaseFilename(trackname)\n",
    "        self.trackname = trackname\n",
    "        self.delims    = [\" \", \"-\", \")\",\".\"]\n",
    "        \n",
    "        self.trackNo = None\n",
    "        self.title   = None\n",
    "\n",
    "\n",
    "        ####################################################################################\n",
    "        # Get Best Guess At The Track Number\n",
    "        ####################################################################################\n",
    "        gtn = guessTrackNumber(self.trackname)\n",
    "        retval = gtn.match()\n",
    "        if retval is not None:\n",
    "            match = retval.get()\n",
    "            self.trackNo  = match.get(\"Value\")\n",
    "            updatedName   = match.get(\"Update\")\n",
    "            self.trackname = self.stripName(updatedName)\n",
    "\n",
    "\n",
    "\n",
    "        ####################################################################################\n",
    "        # Get Best Guess At The Title Number\n",
    "        ####################################################################################\n",
    "        gtn = guessTitleName(self.trackname)\n",
    "        retval = gtn.match()\n",
    "        if retval is not None:\n",
    "            match = retval.get()\n",
    "            self.title    = match.get(\"Value\")\n",
    "            updatedName   = match.get(\"Update\")\n",
    "            self.trackname = self.stripName(updatedName)\n",
    "            \n",
    "            \n",
    "\n",
    "            \n",
    "    ####################################################################################\n",
    "    # Strip Name To Get The Basics\n",
    "    ####################################################################################\n",
    "    def stripName(self, trackname):\n",
    "        found  = True\n",
    "        while found:\n",
    "            found = False\n",
    "            for delim in self.delims:\n",
    "                if trackname.startswith(delim):\n",
    "                    trackname = trackname[1:]\n",
    "                    found = True\n",
    "                    break\n",
    "        return trackname\n",
    "            \n",
    "        \n",
    "    ####################################################################################\n",
    "    # mid Text\n",
    "    ####################################################################################\n",
    "    def get(self):\n",
    "        midText = \"mid -f \\\"{0}\\\"\".format(self.original)\n",
    "        if self.trackNo is not None:\n",
    "            midText = \"{0} -track \\\"{1}\\\"\".format(midText, self.trackNo)\n",
    "        if self.title is not None:\n",
    "            midText = \"{0} -title \\\"{1}\\\"\".format(midText, self.title)\n",
    "        return midText"
   ]
  },
  {
   "cell_type": "code",
   "execution_count": null,
   "metadata": {},
   "outputs": [],
   "source": [
    "def main(args):\n",
    "    if args.dir is None:\n",
    "        args.dir  = getcwd()\n",
    "    \n",
    "    \n",
    "    for albumDir, filevals in files.items():\n",
    "        retval = genMIDTags(albumDir, artistDir, files=filevals)\n",
    "                          \n",
    "\n",
    "if __name__ == \"__main__\":\n",
    "    parser = argparse.ArgumentParser(description='Music ID Tagger')\n",
    "    parser.add_argument('-showpath', '-sp', action=\"store_true\", dest=\"showpath\", default=False)\n",
    "    parser.add_argument('-dir', '-d', action=\"store\", dest=\"dir\")\n",
    "    parser.add_argument('-debug', action=\"store_true\", default=False)\n",
    "    parser.add_argument('-nonint', action=\"store_true\", default=False)\n",
    "\n",
    "    args = parser.parse_args()\n",
    "    main(args)"
   ]
  },
  {
   "cell_type": "code",
   "execution_count": 69,
   "metadata": {},
   "outputs": [
    {
     "data": {
      "text/plain": [
       "'mid -f \"A11 - nameX.mp3\" -track \"A11\" -title \"nameX\"'"
      ]
     },
     "execution_count": 69,
     "metadata": {},
     "output_type": "execute_result"
    }
   ],
   "source": [
    "name  = \"A11 - nameX.mp3\"\n",
    "track = analyzeTrack(name)\n",
    "track.get()"
   ]
  },
  {
   "cell_type": "code",
   "execution_count": null,
   "metadata": {},
   "outputs": [],
   "source": [
    "import argparse\n",
    "from musicID import MusicID\n",
    "from fsUtils import mkDir, moveFile, setDir, moveDir\n",
    "from fileUtils import isFile, isDir, getDirname, getDirBasics, getBaseFilename\n",
    "from searchUtils import findAll, findWalk, findDirs\n",
    "from os import getcwd\n",
    "from musicPath import pathBasics\n",
    "from time import sleep\n",
    "import sys\n",
    "import re\n",
    "\n",
    "\n",
    "\n",
    "#############################################################################################################################\n",
    "#\n",
    "#\n",
    "#  Track Number Code\n",
    "#\n",
    "#\n",
    "#############################################################################################################################\n",
    "def guessTrackNumberNonInt(trackname):\n",
    "    retvals = {}\n",
    "\n",
    "    pattern = \"^[A-Z][0-9]\"\n",
    "    mval    = re.search(pattern, trackname)    \n",
    "    if mval is not None:\n",
    "        try:\n",
    "            retvals[pattern] = {\"Val\": mval.group(), \"Rep\": trackname.replace(mval.group(), \"\")}\n",
    "        except:\n",
    "            pass\n",
    "        \n",
    "    return retvals\n",
    "            \n",
    "\n",
    "def guessTrackNumberInt(trackname):\n",
    "    retvals = {}\n",
    "    \n",
    "    pattern = \"^[0-9]{2}\"\n",
    "    mval    = re.search(pattern, trackname)    \n",
    "    if mval is not None:\n",
    "        try:\n",
    "            int(mval.group())\n",
    "            retvals[pattern] = {\"Val\": mval.group(), \"Rep\": trackname.replace(mval.group(), \"\")}\n",
    "        except:\n",
    "            pass\n",
    "        \n",
    "    return retvals\n",
    "            \n",
    "\n",
    "def guessTrackNumberDiscInt(trackname):\n",
    "    retvals = {}\n",
    "    \n",
    "    pattern = \"^[0-9]{3}\"\n",
    "    mval    = re.search(pattern, trackname)    \n",
    "    if mval is not None:\n",
    "        try:\n",
    "            int(mval.group())\n",
    "            retvals[pattern] = {\"Val\": str(int(mval.group()) % 100), \"Rep\": trackname.replace(mval.group(), \"\")}\n",
    "        except:\n",
    "            pass\n",
    "        \n",
    "    return retvals\n",
    "            \n",
    "\n",
    "def guessTrackNumber(trackname):\n",
    "    retvals = {}\n",
    "    retvals[\"DiscInt\"] = guessTrackNumberDiscInt\n",
    "    retvals[\"Int\"]     = guessTrackNumberInt\n",
    "    retvals[\"NonInt\"]  = guessTrackNumberNonInt\n",
    "    \n",
    "    results = {k: v(trackname) for k,v in retvals.items()}\n",
    "    \n",
    "    if len(results[\"DiscInt\"]) > 0:\n",
    "        return results[\"DiscInt\"]\n",
    "    elif len(results[\"NonInt\"]) > 0:\n",
    "        return results[\"NonInt\"]\n",
    "    elif len(results[\"Int\"]) > 0:\n",
    "        return results[\"Int\"]\n",
    "    else:\n",
    "        return {}\n",
    "    \n",
    "    return results\n",
    "\n",
    "\n",
    "\n",
    "#############################################################################################################################\n",
    "#\n",
    "#\n",
    "#  Title Code\n",
    "#\n",
    "#\n",
    "#############################################################################################################################\n",
    "def guessTitle(trackname):\n",
    "    retvals = {}\n",
    "    retvals[\"Best\"] = {\"Val\": trackname, \"Rep\": \"\"}\n",
    "    return retvals\n",
    "\n",
    "    \n",
    "    \n",
    "\n",
    "#############################################################################################################################\n",
    "#\n",
    "#\n",
    "#  General Code\n",
    "#\n",
    "#\n",
    "#############################################################################################################################\n",
    "def fix(val):\n",
    "    if val is None:\n",
    "        return \"\"\n",
    "    if isinstance(val, list):\n",
    "        if len(val) > 0:\n",
    "            return str(val[0])\n",
    "        else:\n",
    "            return str(val)\n",
    "    if isinstance(val, tuple):\n",
    "        return str(val)\n",
    "    return val\n",
    "\n",
    "def getBestVal(vals):\n",
    "    lenvals = {k: len(v) for k, v in vals.items()}\n",
    "    minval  = 0\n",
    "    bestval = None\n",
    "    for k,v in vals.items():\n",
    "        if len(v[\"Val\"]) > minval:\n",
    "            minval  = len(v[\"Val\"])\n",
    "            bestval = v\n",
    "    return bestval\n",
    "\n",
    "def stripName(trackname):\n",
    "    delims = [\" \", \"-\", \")\",\".\"]\n",
    "    found  = True\n",
    "    while found:\n",
    "        found = False\n",
    "        for delim in delims:\n",
    "            if trackname.startswith(delim):\n",
    "                trackname = trackname[1:]\n",
    "                found = True\n",
    "                break\n",
    "    return trackname\n",
    "\n",
    "\n",
    "\n",
    "\n",
    "    \n",
    "def p(vals):\n",
    "    vals = [fix(x) for x in vals]\n",
    "    print(\"{0: <4}{1: <8}{2: <9}{3: <25}{4: <35}{5: <60}{6: <70}{7: <6}\".format(vals[0], vals[1], vals[2], vals[3], vals[4], vals[5], vals[6], vals[7]))\n",
    "\n",
    "def header():\n",
    "    p([\"##\", \"Disc\", \"Track\", \"AlbumArtist\", \"Artist\", \"Album\", \"Title\", \"Size\"])\n",
    "    p([\"--\", \"----\", \"-----\", \"-----------\", \"------\", \"-----\", \"-----\", \"----\"])\n",
    "\n",
    "    \n",
    "def genMIDTags(albumDir, artistDir, files):\n",
    "    \n",
    "    retval = {\"Track\": False, \"Album\": False, \"Title\": False, \"Multi\": False, \"Skip\": False, \"Extra\": False, \"Mix\": False}\n",
    "    \n",
    "    artistName = getDirBasics(artistDir)[-1]\n",
    "    albumName  = albumDir.replace(artistDir, \"\")[1:]\n",
    "    \n",
    "    #print(\"albumName\",albumName)\n",
    "\n",
    "    j = 0\n",
    "    tags = {}\n",
    "    \n",
    "    print(\"\\t-----> Album Info: {0} / {1} \\t ==> {2} Songs\".format(artistName, albumName, len(files)))\n",
    "\n",
    "    \n",
    "    ifiles = []\n",
    "    for jf, ifile in enumerate(files):\n",
    "        results = MusicID(ifile, debug=args.debug)\n",
    "        if results.skip is True:\n",
    "            continue\n",
    "        tags[j] = results.getInfo()\n",
    "        ifiles.append(ifile)\n",
    "        #pbcs[j] = pb.getPaths(ifile).getDict()\n",
    "        j += 1\n",
    "    nfiles = j\n",
    "\n",
    "    \n",
    "    fixVals = {}\n",
    "    for j in range(nfiles):\n",
    "        ifile = ifiles[j]\n",
    "        tag   = tags[j]\n",
    "        \n",
    "        trackname = getBaseFilename(ifile)\n",
    "        \n",
    "        newtags = {\"TrackNo\": None, \"Title\": None}\n",
    "\n",
    "        tracks = guessTrackNumber(trackname)\n",
    "        retval = getBestVal(tracks)\n",
    "        if retval is not None:\n",
    "            if retval.get('Val') is not None:\n",
    "                newtags[\"TrackNo\"] = retval[\"Val\"]\n",
    "                trackname = stripName(retval[\"Rep\"])\n",
    "\n",
    "            \n",
    "        titles = guessTitle(trackname)\n",
    "        retval = getBestVal(titles)\n",
    "        if retval is not None:\n",
    "            if retval.get('Val') is not None:\n",
    "                newtags[\"Title\"] = retval[\"Val\"]\n",
    "                trackname = stripName(retval[\"Rep\"])\n",
    "            \n",
    "            \n",
    "        \n",
    "        #if tags[j][\"TrackNo\"] is None:\n",
    "        if newtags[\"TrackNo\"] is not None:\n",
    "            if fixVals.get(ifile) is None:\n",
    "                fixVals[ifile] = {}\n",
    "            fixVals[ifile][\"track\"] = newtags[\"TrackNo\"]\n",
    "                \n",
    "\n",
    "        #if tags[j][\"Title\"] is None:\n",
    "        if newtags[\"Title\"] is not None:\n",
    "            if fixVals.get(ifile) is None:\n",
    "                fixVals[ifile] = {}\n",
    "            fixVals[ifile][\"title\"] = newtags[\"Title\"]\n",
    "\n",
    "\n",
    "    if len(fixVals) > 0:\n",
    "        print(\"\")\n",
    "\n",
    "    for ifile in fixVals.keys():\n",
    "        print(\"mid -f \\\"{0}\\\" \".format(ifile), end=\"\")\n",
    "        for tag,val in fixVals[ifile].items():\n",
    "            print(\" -{0} \\\"{1}\\\"\".format(tag,val), end=\"\")\n",
    "        print(\"\\n\")\n",
    "        \n",
    "    if len(fixVals) > 0:\n",
    "        print(\"\")\n",
    "\n",
    "        \n",
    "        \n",
    "def main(args):\n",
    "    if args.dir is None:\n",
    "        args.dir  = getcwd()\n",
    "    \n",
    "    pb    = pathBasics(albumDir=args.dir)\n",
    "    files = pb.getFiles()\n",
    "    artistDir = getDirname(args.dir)\n",
    "    for albumDir, filevals in files.items():\n",
    "        retval = genMIDTags(albumDir, artistDir, files=filevals)\n",
    "                          \n",
    "\n",
    "if __name__ == \"__main__\":\n",
    "    parser = argparse.ArgumentParser(description='Music ID Tagger')\n",
    "    parser.add_argument('-showpath', '-sp', action=\"store_true\", dest=\"showpath\", default=False)\n",
    "    parser.add_argument('-dir', '-d', action=\"store\", dest=\"dir\")\n",
    "    parser.add_argument('-debug', action=\"store_true\", default=False)\n",
    "    parser.add_argument('-nonint', action=\"store_true\", default=False)\n",
    "\n",
    "    args = parser.parse_args()\n",
    "    main(args)\n",
    "\n"
   ]
  }
 ],
 "metadata": {
  "kernelspec": {
   "display_name": "Python 3",
   "language": "python",
   "name": "python3"
  },
  "language_info": {
   "codemirror_mode": {
    "name": "ipython",
    "version": 3
   },
   "file_extension": ".py",
   "mimetype": "text/x-python",
   "name": "python",
   "nbconvert_exporter": "python",
   "pygments_lexer": "ipython3",
   "version": "3.7.7"
  }
 },
 "nbformat": 4,
 "nbformat_minor": 2
}
