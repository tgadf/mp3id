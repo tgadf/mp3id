{
 "cells": [
  {
   "cell_type": "markdown",
   "metadata": {},
   "source": [
    "# MP3 ID"
   ]
  },
  {
   "cell_type": "code",
   "execution_count": 1,
   "metadata": {},
   "outputs": [
    {
     "data": {
      "text/html": [
       "<style>.container { width:100% !important; }</style>"
      ],
      "text/plain": [
       "<IPython.core.display.HTML object>"
      ]
     },
     "metadata": {},
     "output_type": "display_data"
    },
    {
     "data": {
      "text/html": [
       "<style>div.output_area{max-height:10000px;overflow:scroll;}</style>"
      ],
      "text/plain": [
       "<IPython.core.display.HTML object>"
      ]
     },
     "metadata": {},
     "output_type": "display_data"
    },
    {
     "name": "stdout",
     "output_type": "stream",
     "text": [
      "Python: 3.7.3 (default, Mar 27 2019, 16:54:48) \n",
      "[Clang 4.0.1 (tags/RELEASE_401/final)]\n",
      "Notebook Last Run Initiated: 2019-07-08 20:37:12.734556\n"
     ]
    }
   ],
   "source": [
    "## Basic stuff\n",
    "%load_ext autoreload\n",
    "%autoreload\n",
    "from IPython.core.display import display, HTML\n",
    "display(HTML(\"<style>.container { width:100% !important; }</style>\"))\n",
    "display(HTML(\"\"\"<style>div.output_area{max-height:10000px;overflow:scroll;}</style>\"\"\"))\n",
    "\n",
    "## Python Version\n",
    "import sys\n",
    "print(\"Python: {0}\".format(sys.version))\n",
    "\n",
    "from mp3id import mp3ID\n",
    "\n",
    "import datetime as dt\n",
    "start = dt.datetime.now()\n",
    "print(\"Notebook Last Run Initiated: \"+str(start))"
   ]
  },
  {
   "cell_type": "markdown",
   "metadata": {},
   "source": [
    "# Test"
   ]
  },
  {
   "cell_type": "code",
   "execution_count": 2,
   "metadata": {},
   "outputs": [
    {
     "name": "stdout",
     "output_type": "stream",
     "text": [
      "Testing /Volumes/Music/test/01 - Counting Stars.mp3\n",
      "-- Artist --\n",
      "\tEasy = True\t True \t OneRepublic\n",
      "\tEasy = False\t True \t OneRepublic\n",
      "-- AlbumArtist --\n",
      "\tEasy = True\t True \t OneRepublic\n",
      "\tEasy = False\t True \t OneRepublic\n",
      "-- Album --\n",
      "\tEasy = True\t True \t Native\n",
      "\tEasy = False\t True \t Native\n",
      "-- Title --\n",
      "\tEasy = True\t True \t Counting Stars\n",
      "\tEasy = False\t True \t Counting Stars\n",
      "-- Date --\n",
      "\tEasy = True\t True \t 2013\n",
      "\tEasy = False\t True \t 2013\n",
      "-- Genre --\n",
      "\tEasy = True\t True \t Pop\n",
      "\tEasy = False\t True \t Pop\n",
      "-- TrackNumber --\n",
      "\tEasy = True\t True \t 1/17\n",
      "\tEasy = False\t True \t 1/17\n",
      "-- Length --\n",
      "\tEasy = True\t True \t 257280\n",
      "\tEasy = False\t True \t 257280\n",
      "-- Compilation --\n",
      "\tEasy = True\t True \t None\n",
      "\tEasy = False\t True \t None\n"
     ]
    }
   ],
   "source": [
    "imp3 = '/Volumes/Music/test/01 - Counting Stars.mp3'\n",
    "print(\"Testing {0}\".format(imp3))\n",
    "m = mp3ID(imp3)\n",
    "\n",
    "tests = []\n",
    "tests.append([\"Artist\", \"OneRepublic\", m.getArtist])\n",
    "tests.append([\"AlbumArtist\", \"OneRepublic\", m.getAlbumArtist])\n",
    "tests.append([\"Album\", \"Native\", m.getAlbum])\n",
    "tests.append([\"Title\", \"Counting Stars\", m.getTitle])\n",
    "tests.append([\"Date\", \"2013\", m.getDate])\n",
    "tests.append([\"Genre\", \"Pop\", m.getGenre])\n",
    "tests.append([\"TrackNumber\", \"1/17\", m.getTrackNumber])\n",
    "tests.append([\"Length\", \"257280\", m.getLength])\n",
    "tests.append([\"Compilation\", None, m.getCompilation])\n",
    "\n",
    "for var in tests:\n",
    "    print(\"-- {0} --\".format(var[0]))\n",
    "    for easyval in [True, False]:\n",
    "        print(\"\\tEasy = {0}\\t\".format(easyval), var[2](easy=easyval) == var[1], '\\t', var[2](easyval))"
   ]
  },
  {
   "cell_type": "code",
   "execution_count": 3,
   "metadata": {},
   "outputs": [
    {
     "data": {
      "text/plain": [
       "'Native'"
      ]
     },
     "execution_count": 3,
     "metadata": {},
     "output_type": "execute_result"
    }
   ],
   "source": [
    "m.getMP3().album"
   ]
  },
  {
   "cell_type": "code",
   "execution_count": null,
   "metadata": {},
   "outputs": [],
   "source": [
    "print(type(m.getID3Tag('TPE2')))\n",
    "print(type(m.getID3Tag('TDRC')))"
   ]
  },
  {
   "cell_type": "code",
   "execution_count": null,
   "metadata": {},
   "outputs": [],
   "source": [
    "m.getID3Tags().keys()"
   ]
  },
  {
   "cell_type": "code",
   "execution_count": null,
   "metadata": {},
   "outputs": [],
   "source": [
    "m.getEasyTag('genre')"
   ]
  }
 ],
 "metadata": {
  "kernelspec": {
   "display_name": "Python 3",
   "language": "python",
   "name": "python3"
  },
  "language_info": {
   "codemirror_mode": {
    "name": "ipython",
    "version": 3
   },
   "file_extension": ".py",
   "mimetype": "text/x-python",
   "name": "python",
   "nbconvert_exporter": "python",
   "pygments_lexer": "ipython3",
   "version": "3.7.3"
  }
 },
 "nbformat": 4,
 "nbformat_minor": 2
}
